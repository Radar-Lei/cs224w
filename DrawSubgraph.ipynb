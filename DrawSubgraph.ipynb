{
 "cells": [
  {
   "cell_type": "code",
   "execution_count": 1,
   "metadata": {},
   "outputs": [],
   "source": [
    "import numpy as np\n",
    "import pandas as pd\n",
    "import snap\n",
    "import matplotlib.pyplot as plt\n",
    "from graphviz import Digraph"
   ]
  },
  {
   "cell_type": "code",
   "execution_count": 24,
   "metadata": {},
   "outputs": [],
   "source": [
    "#Load edge list into TTable\n",
    "context = snap.TTableContext()\n",
    "edgefilename = \"./data/InvInvPairs.csv\"\n",
    "nodefilename = \"./data/Investor.csv\"\n",
    "edgeschema = snap.Schema()\n",
    "edgeschema.Add(snap.TStrTAttrPr(\"srcNID\", snap.atInt))\n",
    "edgeschema.Add(snap.TStrTAttrPr(\"dstNID\", snap.atInt))\n",
    "edgeschema.Add(snap.TStrTAttrPr(\"weight\", snap.atFlt))\n",
    "\n",
    "nodeschema = snap.Schema()\n",
    "nodeschema.Add(snap.TStrTAttrPr(\"investorID\", snap.atStr))\n",
    "nodeschema.Add(snap.TStrTAttrPr(\"investorname\", snap.atStr))\n",
    "\n",
    "edge_table = snap.TTable.LoadSS(edgeschema, edgefilename, context, \"\\t\", snap.TBool(False))\n",
    "node_table = snap.TTable.LoadSS(nodeschema, nodefilename, context, \"\\t\", snap.TBool(False))"
   ]
  },
  {
   "cell_type": "code",
   "execution_count": 25,
   "metadata": {},
   "outputs": [],
   "source": [
    "#Convert TTable into Directed graph\n",
    "edgeattrv = snap.TStrV()\n",
    "edgeattrv.Add(\"weight\")\n",
    "\n",
    "nodeattrv = snap.TStrV()\n",
    "nodeattrv.Add(\"investorname\")\n",
    "net = snap.ToNetwork(snap.PNEANet, edge_table, \"srcNID\", \"dstNID\", edgeattrv, node_table, \"investorID\", nodeattrv, snap.aaFirst)"
   ]
  },
  {
   "cell_type": "code",
   "execution_count": 26,
   "metadata": {},
   "outputs": [],
   "source": [
    "snap.PrintInfo(net, \"Reduced Investor-Investor DGraph Stats\", \"./data/ReducedInvDGraph-info.txt\", False)"
   ]
  },
  {
   "cell_type": "code",
   "execution_count": 27,
   "metadata": {},
   "outputs": [
    {
     "data": {
      "text/plain": [
       "'In_edge_subgraph_node648.png'"
      ]
     },
     "execution_count": 27,
     "metadata": {},
     "output_type": "execute_result"
    }
   ],
   "source": [
    "#In-edge subgraph for Berkshire\n",
    "investorname = \"BERKSHIRE HATHAWAY INC\"\n",
    "id = SF3_investorsID[investorname]\n",
    "dot = Digraph(comment=\"In-edge egonet of {}\".format(investorname), engine='sfdp', node_attr={'shape':'oval'}, format='png')\n",
    "\n",
    "list_node = [id]\n",
    "list_edge = []\n",
    "list_nbrnbr = []\n",
    "dot.node(SF3_investors[id], color = 'red', fontcolor = 'red')\n",
    "Node = net.GetNI(id)\n",
    "\n",
    "k = Node.GetInDeg()\n",
    "for i in range(k):\n",
    "    In = Node.GetInNId(i)\n",
    "    if In not in list_node:\n",
    "        dot.node(SF3_investors[In])\n",
    "        list_node += [In]\n",
    "    if ([In, id]) not in list_edge:\n",
    "        dot.edge(SF3_investors[In], SF3_investors[id])\n",
    "        list_edge += [([In, id])]\n",
    "    InNode = net.GetNI(In)\n",
    "    \n",
    "    k_In = InNode.GetInDeg()\n",
    "    for j in range(k_In):\n",
    "        InIn = InNode.GetInNId(j)\n",
    "        list_nbrnbr += [InIn]\n",
    "        if InIn not in list_node:\n",
    "            dot.node(SF3_investors[InIn])\n",
    "            list_node += [InIn]\n",
    "        if ([InIn, In]) not in list_edge:\n",
    "            dot.edge(SF3_investors[InIn], SF3_investors[In])\n",
    "            list_edge += [([InIn, In])]\n",
    "            \n",
    "list_nbrnbr = list(set(list_nbrnbr))\n",
    "for i in range(len(list_nbrnbr)-1):\n",
    "    for j in range(i, len(list_nbrnbr)):\n",
    "        if net.IsEdge(list_nbrnbr[i], list_nbrnbr[j]):\n",
    "            if [list_nbrnbr[i], list_nbrnbr[j]] not in list_edge:\n",
    "                dot.edge(SF3_investors[list_nbrnbr[i]], SF3_investors[list_nbrnbr[j]])                \n",
    "        if net.IsEdge(list_nbrnbr[j], list_nbrnbr[i]):\n",
    "            if [list_nbrnbr[j], list_nbrnbr[i]] not in list_edge:\n",
    "                dot.edge(SF3_investors[list_nbrnbr[j]], SF3_investors[list_nbrnbr[i]])\n",
    "\n",
    "dot.render('./data/In_edge_subgraph_node{}'.format(id), view=True)"
   ]
  },
  {
   "cell_type": "code",
   "execution_count": 28,
   "metadata": {},
   "outputs": [
    {
     "data": {
      "text/plain": [
       "'Out_edge_subgraph_node648.png'"
      ]
     },
     "execution_count": 28,
     "metadata": {},
     "output_type": "execute_result"
    }
   ],
   "source": [
    "#Out-edge subgraph for Berkshire\n",
    "investorname = \"BERKSHIRE HATHAWAY INC\"\n",
    "id = SF3_investorsID[investorname]\n",
    "dot = Digraph(comment=\"Out-edge egonet of {}\".format(investorname), engine='sfdp', node_attr={'shape':'oval'}, format='png')\n",
    "\n",
    "list_node = [id]\n",
    "list_edge = []\n",
    "list_nbrnbr = []\n",
    "dot.node(SF3_investors[id], color = 'red', fontcolor = 'red')\n",
    "Node = net.GetNI(id)\n",
    "\n",
    "k = Node.GetOutDeg()\n",
    "for i in range(k):\n",
    "    Out = Node.GetOutNId(i)\n",
    "    if Out not in list_node:\n",
    "        dot.node(SF3_investors[Out])\n",
    "        list_node += [Out]\n",
    "    if ([id, Out]) not in list_edge:\n",
    "        dot.edge(SF3_investors[id], SF3_investors[Out])\n",
    "        list_edge += [([id, Out])]\n",
    "    OutNode = net.GetNI(Out)\n",
    "    \n",
    "    k_Out = OutNode.GetOutDeg()\n",
    "    for j in range(k_Out):\n",
    "        OutOut = OutNode.GetOutNId(j)\n",
    "        list_nbrnbr += [OutOut]\n",
    "        if OutOut not in list_node:\n",
    "            dot.node(SF3_investors[OutOut])\n",
    "            list_node += [OutOut]\n",
    "        if ([Out, OutOut]) not in list_edge:\n",
    "            dot.edge(SF3_investors[Out], SF3_investors[OutOut])\n",
    "            list_edge += [([Out, OutOut])]\n",
    "        \n",
    "list_nbrnbr = list(set(list_nbrnbr))\n",
    "for i in range(len(list_nbrnbr)-1):\n",
    "    for j in range(i, len(list_nbrnbr)):\n",
    "        if net.IsEdge(list_nbrnbr[i], list_nbrnbr[j]):\n",
    "            if [list_nbrnbr[i], list_nbrnbr[j]] not in list_edge:\n",
    "                dot.edge(SF3_investors[list_nbrnbr[i]], SF3_investors[list_nbrnbr[j]])                \n",
    "        if net.IsEdge(list_nbrnbr[j], list_nbrnbr[i]):\n",
    "            if [list_nbrnbr[j], list_nbrnbr[i]] not in list_edge:\n",
    "                dot.edge(SF3_investors[list_nbrnbr[j]], SF3_investors[list_nbrnbr[i]])\n",
    "\n",
    "dot.render('./data/Out_edge_subgraph_node{}'.format(id), view=True)"
   ]
  }
 ],
 "metadata": {
  "kernelspec": {
   "display_name": "Python 3",
   "language": "python",
   "name": "python3"
  },
  "language_info": {
   "codemirror_mode": {
    "name": "ipython",
    "version": 3
   },
   "file_extension": ".py",
   "mimetype": "text/x-python",
   "name": "python",
   "nbconvert_exporter": "python",
   "pygments_lexer": "ipython3",
   "version": "3.7.4"
  }
 },
 "nbformat": 4,
 "nbformat_minor": 2
}
