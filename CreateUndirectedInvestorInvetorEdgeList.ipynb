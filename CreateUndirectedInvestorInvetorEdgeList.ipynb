{
 "cells": [
  {
   "cell_type": "code",
   "execution_count": 1,
   "metadata": {},
   "outputs": [],
   "source": [
    "import numpy as np\n",
    "import pandas as pd\n",
    "import matplotlib.pyplot as plt"
   ]
  },
  {
   "cell_type": "code",
   "execution_count": 2,
   "metadata": {},
   "outputs": [],
   "source": [
    "df_SF3 = pd.read_csv( './data/SHARADAR_SF3_ce320d02f19d0b5d04c9557e0bc16680.zip') # read SF3 table"
   ]
  },
  {
   "cell_type": "code",
   "execution_count": 3,
   "metadata": {},
   "outputs": [],
   "source": [
    "df_SF3 = df_SF3[df_SF3['securitytype'] == 'SHR']"
   ]
  },
  {
   "cell_type": "code",
   "execution_count": 4,
   "metadata": {},
   "outputs": [],
   "source": [
    "SF3_tickers = df_SF3.ticker.unique()"
   ]
  },
  {
   "cell_type": "code",
   "execution_count": 5,
   "metadata": {},
   "outputs": [],
   "source": [
    "SF3_investors = df_SF3.investorname.unique()"
   ]
  },
  {
   "cell_type": "code",
   "execution_count": 6,
   "metadata": {},
   "outputs": [],
   "source": [
    "SF3_dates = pd.to_datetime(df_SF3.calendardate.unique()) # collect dates of investor filings"
   ]
  },
  {
   "cell_type": "code",
   "execution_count": 7,
   "metadata": {
    "scrolled": true
   },
   "outputs": [],
   "source": [
    "#unique ('investor', 'ticker') pairs\n",
    "invstrTckrPair = df_SF3[['investorname', 'ticker']].drop_duplicates()"
   ]
  },
  {
   "cell_type": "code",
   "execution_count": 8,
   "metadata": {},
   "outputs": [],
   "source": [
    "#unique ('investor', 'ticker') pairs we do not know when initially invested (We should eliminate them when we construct investor-investor graph)\n",
    "invstrTckrPair1306 = df_SF3.query('calendardate == \"2013-06-30\"')[['investorname', 'ticker']]"
   ]
  },
  {
   "cell_type": "code",
   "execution_count": 9,
   "metadata": {},
   "outputs": [],
   "source": [
    "#\"new\" unique ('investor', 'ticker') pairs from 2013-09-30\n",
    "invstrTckrPair['common'] = 1\n",
    "invstrTckrPair1306['common'] = 1\n",
    "newInvstrTckrPair = invstrTckrPair.merge(invstrTckrPair1306, on=['investorname', 'ticker'], how='left')\n",
    "newInvstrTckrPair = newInvstrTckrPair[newInvstrTckrPair.common_y.isnull()][['investorname','ticker']]"
   ]
  },
  {
   "cell_type": "code",
   "execution_count": 10,
   "metadata": {},
   "outputs": [],
   "source": [
    "#Eliminate investors who invest 1000+ stocks\n",
    "num_invest = newInvstrTckrPair.groupby('investorname').count()\n",
    "num_invest.columns = ['num_invest']\n",
    "SF3_investors = np.array(num_invest[num_invest['num_invest'] < 1000].index)"
   ]
  },
  {
   "cell_type": "code",
   "execution_count": 11,
   "metadata": {},
   "outputs": [
    {
     "name": "stdout",
     "output_type": "stream",
     "text": [
      "t: 0  Num of new (invstr, tckr): 48198  Num of (invstr, invstr): 445362\n",
      "Size of accumulated investor investor pairs before aggregation:  (445362, 3)\n",
      "Size of accumulated investor investor pairs after aggregation:  (445362, 3)\n",
      "t: 1  Num of new (invstr, tckr): 69967  Num of (invstr, invstr): 724067\n",
      "t: 2  Num of new (invstr, tckr): 50802  Num of (invstr, invstr): 457623\n",
      "t: 3  Num of new (invstr, tckr): 47767  Num of (invstr, invstr): 463277\n",
      "t: 4  Num of new (invstr, tckr): 43335  Num of (invstr, invstr): 397689\n",
      "t: 5  Num of new (invstr, tckr): 69530  Num of (invstr, invstr): 853890\n",
      "Size of accumulated investor investor pairs before aggregation:  (3341908, 3)\n",
      "Size of accumulated investor investor pairs after aggregation:  (2168633, 3)\n",
      "t: 6  Num of new (invstr, tckr): 51030  Num of (invstr, invstr): 507220\n",
      "t: 7  Num of new (invstr, tckr): 47585  Num of (invstr, invstr): 430421\n",
      "t: 8  Num of new (invstr, tckr): 44878  Num of (invstr, invstr): 754486\n",
      "t: 9  Num of new (invstr, tckr): 58097  Num of (invstr, invstr): 742938\n",
      "t: 10  Num of new (invstr, tckr): 47294  Num of (invstr, invstr): 514555\n",
      "Size of accumulated investor investor pairs before aggregation:  (5118253, 3)\n",
      "Size of accumulated investor investor pairs after aggregation:  (3239849, 3)\n",
      "t: 11  Num of new (invstr, tckr): 46455  Num of (invstr, invstr): 523588\n",
      "t: 12  Num of new (invstr, tckr): 43245  Num of (invstr, invstr): 539414\n",
      "t: 13  Num of new (invstr, tckr): 65253  Num of (invstr, invstr): 768332\n",
      "t: 14  Num of new (invstr, tckr): 50340  Num of (invstr, invstr): 618417\n",
      "t: 15  Num of new (invstr, tckr): 48747  Num of (invstr, invstr): 496663\n",
      "Size of accumulated investor investor pairs before aggregation:  (6186263, 3)\n",
      "Size of accumulated investor investor pairs after aggregation:  (4173452, 3)\n",
      "t: 16  Num of new (invstr, tckr): 43784  Num of (invstr, invstr): 535459\n",
      "t: 17  Num of new (invstr, tckr): 86422  Num of (invstr, invstr): 1011664\n",
      "t: 18  Num of new (invstr, tckr): 58332  Num of (invstr, invstr): 643451\n",
      "t: 19  Num of new (invstr, tckr): 59454  Num of (invstr, invstr): 667338\n",
      "t: 20  Num of new (invstr, tckr): 53780  Num of (invstr, invstr): 554862\n",
      "Size of accumulated investor investor pairs before aggregation:  (7586226, 3)\n",
      "Size of accumulated investor investor pairs after aggregation:  (5393725, 3)\n",
      "t: 21  Num of new (invstr, tckr): 79496  Num of (invstr, invstr): 1085001\n",
      "t: 22  Num of new (invstr, tckr): 72225  Num of (invstr, invstr): 1696320\n",
      "t: 23  Num of new (invstr, tckr): 62510  Num of (invstr, invstr): 1038605\n",
      "t: 24  Num of new (invstr, tckr): 18180  Num of (invstr, invstr): 80951\n",
      "Size of accumulated investor investor pairs before aggregation:  (9294602, 3)\n",
      "Size of accumulated investor investor pairs after aggregation:  (6578323, 3)\n"
     ]
    }
   ],
   "source": [
    "#Construct investor-investor edge list\n",
    "SF3_dates_rev = SF3_dates.values[::-1]\n",
    "df_investors = pd.DataFrame(SF3_investors, columns = ['investorname'])\n",
    "df_investors['investorID'] = df_investors.index\n",
    "df_investors = df_investors.astype({'investorID':'int16'})\n",
    "\n",
    "for t in range(len(SF3_dates_rev)-1):\n",
    "    #(investor, ticker) pair in quater t and t+1 respectively\n",
    "    invstrTckrPair1 = df_SF3.query('calendardate == \"{}\"'.format(str(SF3_dates_rev[t])[:10]))[['investorname', 'ticker']]\n",
    "    invstrTckrPair1 = pd.merge(invstrTckrPair1, df_investors)[['investorID', 'ticker']]\n",
    "    invstrTckrPair2 = df_SF3.query('calendardate == \"{}\"'.format(str(SF3_dates_rev[t+1])[:10]))[['investorname', 'ticker']]\n",
    "    invstrTckrPair2 = pd.merge(invstrTckrPair2, df_investors)[['investorID', 'ticker']]\n",
    "\n",
    "    #extract new (investor, ticker) pairs in quater t+1\n",
    "    invstrTckrPair1['common'] = 1.0\n",
    "    invstrTckrPair2['common'] = 1.0\n",
    "    newInvstrTckrPair = invstrTckrPair2.merge(invstrTckrPair1, on=['investorID', 'ticker'], how='left')\n",
    "    newInvstrTckrPair = newInvstrTckrPair[newInvstrTckrPair.common_y.isnull()][['investorID','ticker']]\n",
    "    \n",
    "    #Assign an information weight of each Investor, based on the total number of investment in the quarter\n",
    "    Investor_weight = pd.DataFrame(newInvstrTckrPair[\"investorID\"].value_counts())\n",
    "    Investor_weight[\"investorID\"] = 1 / (Investor_weight[\"investorID\"] + 1)\n",
    "    Investor_weight = Investor_weight.rename(columns = {'investorID':'weight'})\n",
    "    \n",
    "    #If any new (investor, ticker) pair in t+1 share same ticker, create edge\n",
    "    InvstrInvstrPair = newInvstrTckrPair.merge(newInvstrTckrPair, on=['ticker'], how='left')\n",
    "\n",
    "    Investor_weight[\"investorID_x\"] = Investor_weight.index\n",
    "    InvstrInvstrPair = InvstrInvstrPair.merge(Investor_weight, on=['investorID_x'], how='left')\n",
    "\n",
    "    Investor_weight = Investor_weight.rename(columns = {'investorID_x':'investorID_y'})\n",
    "    InvstrInvstrPair = InvstrInvstrPair.merge(Investor_weight, on=['investorID_y'], how='left')\n",
    "    InvstrInvstrPair['weight'] = InvstrInvstrPair['weight_x'] * InvstrInvstrPair['weight_y'] \n",
    "    InvstrInvstrPair = InvstrInvstrPair[['investorID_x','investorID_y', 'weight']]\n",
    "    InvstrInvstrPair = InvstrInvstrPair.groupby(['investorID_x','investorID_y'], as_index=False)['weight'].sum()\n",
    "    InvstrInvstrPair['temp'] = InvstrInvstrPair['investorID_y'] - InvstrInvstrPair['investorID_x'] \n",
    "    InvstrInvstrPair = InvstrInvstrPair[InvstrInvstrPair['temp'] > 0][['investorID_x','investorID_y', 'weight']]    \n",
    "\n",
    "    if t == 0:\n",
    "        InvstrInvstrPair_accm = InvstrInvstrPair\n",
    "    else:\n",
    "        InvstrInvstrPair_accm = pd.concat([InvstrInvstrPair_accm, InvstrInvstrPair], ignore_index=True)\n",
    "        prevInvstrTckrPair = newInvstrTckrPair\n",
    "\n",
    "    print('t:', t, ' Num of new (invstr, tckr):',len(newInvstrTckrPair), ' Num of (invstr, invstr):', len(InvstrInvstrPair))\n",
    "    if t % 5 == 0:\n",
    "        print('Size of accumulated investor investor pairs before aggregation: ', InvstrInvstrPair_accm.shape)\n",
    "        InvstrInvstrPair_accm = InvstrInvstrPair_accm.groupby(['investorID_x','investorID_y'], as_index=False)['weight'].sum()\n",
    "        print('Size of accumulated investor investor pairs after aggregation: ', InvstrInvstrPair_accm.shape)\n",
    "print('Size of accumulated investor investor pairs before aggregation: ', InvstrInvstrPair_accm.shape)\n",
    "InvstrInvstrPair_accm = InvstrInvstrPair_accm.groupby(['investorID_x','investorID_y'], as_index=False)['weight'].sum()\n",
    "print('Size of accumulated investor investor pairs after aggregation: ', InvstrInvstrPair_accm.shape)"
   ]
  },
  {
   "cell_type": "code",
   "execution_count": 12,
   "metadata": {},
   "outputs": [
    {
     "data": {
      "image/png": "[encoded data removed]",
      "text/plain": [
       "<Figure size 432x288 with 1 Axes>"
      ]
     },
     "metadata": {
      "needs_background": "light"
     },
     "output_type": "display_data"
    }
   ],
   "source": [
    "#Plot for weight of investor-investor pair and its counts\n",
    "fig, ax = plt.subplots()\n",
    "InvstrInvstrPair_accm[\"weight\"].hist(ax=ax, bins=100, bottom=0.1)\n",
    "ax.set_yscale('log')"
   ]
  },
  {
   "cell_type": "code",
   "execution_count": 13,
   "metadata": {},
   "outputs": [],
   "source": [
    "#1st step: reduce degree by threshold\n",
    "InvstrInvstrPair_reduced = InvstrInvstrPair_accm[InvstrInvstrPair_accm['weight'] > 0.1]"
   ]
  },
  {
   "cell_type": "code",
   "execution_count": 14,
   "metadata": {
    "scrolled": true
   },
   "outputs": [
    {
     "data": {
      "text/plain": [
       "(126244, 3)"
      ]
     },
     "execution_count": 14,
     "metadata": {},
     "output_type": "execute_result"
    },
    {
     "data": {
      "image/png": "[encoded data removed]",
      "text/plain": [
       "<Figure size 432x288 with 1 Axes>"
      ]
     },
     "metadata": {
      "needs_background": "light"
     },
     "output_type": "display_data"
    }
   ],
   "source": [
    "#Again, plot for weight of investor-investor pair and its counts\n",
    "fig, ax = plt.subplots()\n",
    "InvstrInvstrPair_reduced[\"weight\"].hist(ax=ax, bins=100, bottom=0.1)\n",
    "ax.set_yscale('log')\n",
    "InvstrInvstrPair_reduced.shape"
   ]
  },
  {
   "cell_type": "code",
   "execution_count": 15,
   "metadata": {},
   "outputs": [],
   "source": [
    "#Save edge list into csv.\n",
    "InvstrInvstrPair_reduced.to_csv(\"./data/InvInvPairs_UND.csv\", header=False, index=False, sep=\"\\t\")"
   ]
  },
  {
   "cell_type": "code",
   "execution_count": 16,
   "metadata": {},
   "outputs": [],
   "source": [
    "#Save investorID/name list into csv.\n",
    "df_investors[[\"investorID\", \"investorname\"]].to_csv(\"./data/Investor_UND.csv\", header=False, index=False, sep=\"\\t\")"
   ]
  }
 ],
 "metadata": {
  "kernelspec": {
   "display_name": "Python 3",
   "language": "python",
   "name": "python3"
  },
  "language_info": {
   "codemirror_mode": {
    "name": "ipython",
    "version": 3
   },
   "file_extension": ".py",
   "mimetype": "text/x-python",
   "name": "python",
   "nbconvert_exporter": "python",
   "pygments_lexer": "ipython3",
   "version": "3.7.4"
  }
 },
 "nbformat": 4,
 "nbformat_minor": 2
}
