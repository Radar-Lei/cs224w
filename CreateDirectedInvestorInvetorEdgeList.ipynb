{
 "cells": [
  {
   "cell_type": "code",
   "execution_count": 1,
   "metadata": {},
   "outputs": [],
   "source": [
    "import numpy as np\n",
    "import pandas as pd\n",
    "import matplotlib.pyplot as plt"
   ]
  },
  {
   "cell_type": "code",
   "execution_count": 2,
   "metadata": {},
   "outputs": [],
   "source": [
    "df_SF3 = pd.read_csv( './data/SHARADAR_SF3_ce320d02f19d0b5d04c9557e0bc16680.zip') # read SF3 table"
   ]
  },
  {
   "cell_type": "code",
   "execution_count": 3,
   "metadata": {},
   "outputs": [],
   "source": [
    "df_SF3 = df_SF3[df_SF3['securitytype'] == 'SHR']"
   ]
  },
  {
   "cell_type": "code",
   "execution_count": 4,
   "metadata": {},
   "outputs": [],
   "source": [
    "SF3_tickers = df_SF3.ticker.unique()"
   ]
  },
  {
   "cell_type": "code",
   "execution_count": 5,
   "metadata": {},
   "outputs": [],
   "source": [
    "SF3_investors = df_SF3.investorname.unique()"
   ]
  },
  {
   "cell_type": "code",
   "execution_count": 6,
   "metadata": {},
   "outputs": [],
   "source": [
    "SF3_dates = pd.to_datetime(df_SF3.calendardate.unique()) # collect dates of investor filings"
   ]
  },
  {
   "cell_type": "code",
   "execution_count": 7,
   "metadata": {
    "scrolled": true
   },
   "outputs": [],
   "source": [
    "#unique ('investor', 'ticker') pairs\n",
    "invstrTckrPair = df_SF3[['investorname', 'ticker']].drop_duplicates()"
   ]
  },
  {
   "cell_type": "code",
   "execution_count": 8,
   "metadata": {},
   "outputs": [],
   "source": [
    "#unique ('investor', 'ticker') pairs we do not know when initially invested (We should eliminate them when we construct investor-investor graph)\n",
    "invstrTckrPair1306 = df_SF3.query('calendardate == \"2013-06-30\"')[['investorname', 'ticker']]"
   ]
  },
  {
   "cell_type": "code",
   "execution_count": 9,
   "metadata": {},
   "outputs": [],
   "source": [
    "#\"new\" unique ('investor', 'ticker') pairs from 2013-09-30\n",
    "invstrTckrPair['common'] = 1\n",
    "invstrTckrPair1306['common'] = 1\n",
    "newInvstrTckrPair = invstrTckrPair.merge(invstrTckrPair1306, on=['investorname', 'ticker'], how='left')\n",
    "newInvstrTckrPair = newInvstrTckrPair[newInvstrTckrPair.common_y.isnull()][['investorname','ticker']]"
   ]
  },
  {
   "cell_type": "code",
   "execution_count": 10,
   "metadata": {},
   "outputs": [],
   "source": [
    "#Eliminate investors who invest 1000+ stocks\n",
    "num_invest = newInvstrTckrPair.groupby('investorname').count()\n",
    "num_invest.columns = ['num_invest']\n",
    "SF3_investors = np.array(num_invest[num_invest['num_invest'] < 1000].index)"
   ]
  },
  {
   "cell_type": "code",
   "execution_count": 11,
   "metadata": {},
   "outputs": [
    {
     "name": "stdout",
     "output_type": "stream",
     "text": [
      "t: 1  Num of new (invstr, tckr): 69967  Num of (invstr(t-1), invstr(t)): 980289\n",
      "t: 2  Num of new (invstr, tckr): 50802  Num of (invstr(t-1), invstr(t)): 744404\n",
      "t: 3  Num of new (invstr, tckr): 47767  Num of (invstr(t-1), invstr(t)): 776280\n",
      "t: 4  Num of new (invstr, tckr): 43335  Num of (invstr(t-1), invstr(t)): 690937\n",
      "t: 5  Num of new (invstr, tckr): 69530  Num of (invstr(t-1), invstr(t)): 1001962\n",
      "Size of accumulated investor investor pairs before aggregation:  (4193872, 3)\n",
      "Size of accumulated investor investor pairs after aggregation:  (2950938, 3)\n",
      "t: 6  Num of new (invstr, tckr): 51030  Num of (invstr(t-1), invstr(t)): 1160000\n",
      "t: 7  Num of new (invstr, tckr): 47585  Num of (invstr(t-1), invstr(t)): 838433\n",
      "t: 8  Num of new (invstr, tckr): 44878  Num of (invstr(t-1), invstr(t)): 721700\n",
      "t: 9  Num of new (invstr, tckr): 58097  Num of (invstr(t-1), invstr(t)): 1029859\n",
      "t: 10  Num of new (invstr, tckr): 47294  Num of (invstr(t-1), invstr(t)): 1076188\n",
      "Size of accumulated investor investor pairs before aggregation:  (7777118, 3)\n",
      "Size of accumulated investor investor pairs after aggregation:  (5305472, 3)\n",
      "t: 11  Num of new (invstr, tckr): 46455  Num of (invstr(t-1), invstr(t)): 843938\n",
      "t: 12  Num of new (invstr, tckr): 43245  Num of (invstr(t-1), invstr(t)): 776074\n",
      "t: 13  Num of new (invstr, tckr): 65253  Num of (invstr(t-1), invstr(t)): 1004555\n",
      "t: 14  Num of new (invstr, tckr): 50340  Num of (invstr(t-1), invstr(t)): 1156201\n",
      "t: 15  Num of new (invstr, tckr): 48747  Num of (invstr(t-1), invstr(t)): 932141\n",
      "Size of accumulated investor investor pairs before aggregation:  (10018381, 3)\n",
      "Size of accumulated investor investor pairs after aggregation:  (7155921, 3)\n",
      "t: 16  Num of new (invstr, tckr): 43784  Num of (invstr(t-1), invstr(t)): 822894\n",
      "t: 17  Num of new (invstr, tckr): 86422  Num of (invstr(t-1), invstr(t)): 1312485\n",
      "t: 18  Num of new (invstr, tckr): 58332  Num of (invstr(t-1), invstr(t)): 1517072\n",
      "t: 19  Num of new (invstr, tckr): 59454  Num of (invstr(t-1), invstr(t)): 1141311\n",
      "t: 20  Num of new (invstr, tckr): 53780  Num of (invstr(t-1), invstr(t)): 1103455\n",
      "Size of accumulated investor investor pairs before aggregation:  (13053138, 3)\n",
      "Size of accumulated investor investor pairs after aggregation:  (9538997, 3)\n",
      "t: 21  Num of new (invstr, tckr): 79496  Num of (invstr(t-1), invstr(t)): 1367702\n",
      "t: 22  Num of new (invstr, tckr): 72225  Num of (invstr(t-1), invstr(t)): 1827892\n",
      "t: 23  Num of new (invstr, tckr): 62510  Num of (invstr(t-1), invstr(t)): 1598451\n",
      "t: 24  Num of new (invstr, tckr): 18180  Num of (invstr(t-1), invstr(t)): 461002\n",
      "Size of accumulated investor investor pairs before aggregation:  (14794044, 3)\n",
      "Size of accumulated investor investor pairs after aggregation:  (11654515, 3)\n"
     ]
    }
   ],
   "source": [
    "#Construct investor-investor edge list\n",
    "SF3_dates_rev = SF3_dates.values[::-1]\n",
    "df_investors = pd.DataFrame(SF3_investors, columns = ['investorname'])\n",
    "df_investors['investorID'] = df_investors.index\n",
    "df_investors = df_investors.astype({'investorID':'uint16'})\n",
    "\n",
    "for t in range(len(SF3_dates_rev)-1):\n",
    "    #(investor, ticker) pair in quater t and t+1 respectively\n",
    "    invstrTckrPair1 = df_SF3.query('calendardate == \"{}\"'.format(str(SF3_dates_rev[t])[:10]))[['investorname', 'ticker']]\n",
    "    invstrTckrPair1 = pd.merge(invstrTckrPair1, df_investors)[['investorID', 'ticker']]\n",
    "    invstrTckrPair2 = df_SF3.query('calendardate == \"{}\"'.format(str(SF3_dates_rev[t+1])[:10]))[['investorname', 'ticker']]\n",
    "    invstrTckrPair2 = pd.merge(invstrTckrPair2, df_investors)[['investorID', 'ticker']]\n",
    "\n",
    "    #extract new (investor, ticker) pairs in quater t+1\n",
    "    invstrTckrPair1['common'] = 1.0\n",
    "    invstrTckrPair2['common'] = 1.0\n",
    "    newInvstrTckrPair = invstrTckrPair2.merge(invstrTckrPair1, on=['investorID', 'ticker'], how='left')\n",
    "    newInvstrTckrPair = newInvstrTckrPair[newInvstrTckrPair.common_y.isnull()][['investorID','ticker']]\n",
    "    \n",
    "    if t == 0:\n",
    "        newInvstrTckrPair['common'] = 1.0\n",
    "        prevInvstrTckrPair = newInvstrTckrPair\n",
    "    else:\n",
    "        #Assign an information weight of each ticker, based on the total number of investment for the ticker in a previous quarter\n",
    "        #ticker_weight = pd.DataFrame(prevInvstrTckrPair[\"ticker\"].value_counts())\n",
    "        #ticker_weight[\"weight\"] = 1 / np.sqrt(ticker_weight[\"ticker\"])\n",
    "        #ticker_weight[\"ticker\"] = ticker_weight.index\n",
    "        \n",
    "        #Assign an information weight of each source Investor, based on the total number of investment in a previous quarter\n",
    "        srcInvestor_weight = pd.DataFrame(prevInvstrTckrPair[\"investorID\"].value_counts())\n",
    "        srcInvestor_weight[\"investorID\"] = 1 / (srcInvestor_weight[\"investorID\"] + 1)\n",
    "        srcInvestor_weight = srcInvestor_weight.rename(columns = {'investorID':'src_weight'})\n",
    "        srcInvestor_weight[\"investorID_y\"] = srcInvestor_weight.index\n",
    "        \n",
    "        #Assign an information weight of each distination Investor, based on the total number of investment in a current quarter\n",
    "        dstInvestor_weight = pd.DataFrame(newInvstrTckrPair[\"investorID\"].value_counts())\n",
    "        dstInvestor_weight[\"investorID\"] = 1 / (dstInvestor_weight[\"investorID\"] + 1)\n",
    "        dstInvestor_weight = dstInvestor_weight.rename(columns = {'investorID':'dst_weight'})\n",
    "        dstInvestor_weight[\"investorID_x\"] = dstInvestor_weight.index\n",
    "        \n",
    "        #If any new (investor, ticker) pair in t and in t+1 share same ticker, create edge\n",
    "        newInvstrTckrPair['common'] = 1.0\n",
    "        InvstrInvstrPair = newInvstrTckrPair.merge(prevInvstrTckrPair, on=['ticker'], how='left')\n",
    "        #InvstrInvstrPair = InvstrInvstrPair.merge(ticker_weight, on=['ticker'], how='left')\n",
    "        InvstrInvstrPair = InvstrInvstrPair.merge(srcInvestor_weight, on=['investorID_y'], how='left')\n",
    "        InvstrInvstrPair = InvstrInvstrPair.merge(dstInvestor_weight, on=['investorID_x'], how='left')\n",
    "        \n",
    "        InvstrInvstrPair = InvstrInvstrPair[InvstrInvstrPair.common_y.notnull()][['investorID_y','investorID_x','src_weight', 'dst_weight']]\n",
    "        InvstrInvstrPair['weight'] = InvstrInvstrPair['src_weight'] * InvstrInvstrPair['dst_weight'] \n",
    "        \n",
    "        InvstrInvstrPair = InvstrInvstrPair[['investorID_y','investorID_x', 'weight']]\n",
    "        InvstrInvstrPair = InvstrInvstrPair.astype({'investorID_y':'uint16'})\n",
    "        InvstrInvstrPair = InvstrInvstrPair.groupby(['investorID_y','investorID_x'], as_index=False)['weight'].sum()\n",
    "\n",
    "        if t == 1:\n",
    "            InvstrInvstrPair_accm = InvstrInvstrPair\n",
    "        else:\n",
    "            InvstrInvstrPair_accm = pd.concat([InvstrInvstrPair_accm, InvstrInvstrPair], ignore_index=True)\n",
    "            prevInvstrTckrPair = newInvstrTckrPair\n",
    "\n",
    "        print('t:', t, ' Num of new (invstr, tckr):',len(newInvstrTckrPair), ' Num of (invstr(t-1), invstr(t)):', len(InvstrInvstrPair))\n",
    "        if t % 5 == 0:\n",
    "            print('Size of accumulated investor investor pairs before aggregation: ', InvstrInvstrPair_accm.shape)\n",
    "            InvstrInvstrPair_accm = InvstrInvstrPair_accm.groupby(['investorID_y','investorID_x'], as_index=False)['weight'].sum()\n",
    "            print('Size of accumulated investor investor pairs after aggregation: ', InvstrInvstrPair_accm.shape)\n",
    "print('Size of accumulated investor investor pairs before aggregation: ', InvstrInvstrPair_accm.shape)\n",
    "InvstrInvstrPair_accm = InvstrInvstrPair_accm.groupby(['investorID_y','investorID_x'], as_index=False)['weight'].sum()\n",
    "print('Size of accumulated investor investor pairs after aggregation: ', InvstrInvstrPair_accm.shape)"
   ]
  },
  {
   "cell_type": "code",
   "execution_count": 12,
   "metadata": {},
   "outputs": [
    {
     "data": {
      "image/png": "[encoded data removed]",
      "text/plain": [
       "<Figure size 432x288 with 1 Axes>"
      ]
     },
     "metadata": {
      "needs_background": "light"
     },
     "output_type": "display_data"
    }
   ],
   "source": [
    "#Plot for weight of investor-investor pair and its counts\n",
    "fig, ax = plt.subplots()\n",
    "InvstrInvstrPair_accm[\"weight\"].hist(ax=ax, bins=100, bottom=0.1)\n",
    "ax.set_yscale('log')"
   ]
  },
  {
   "cell_type": "code",
   "execution_count": 13,
   "metadata": {},
   "outputs": [],
   "source": [
    "#1st step: reduce degree by threshold\n",
    "InvstrInvstrPair_reduced = InvstrInvstrPair_accm[InvstrInvstrPair_accm['weight'] > 0.01]"
   ]
  },
  {
   "cell_type": "code",
   "execution_count": 14,
   "metadata": {
    "scrolled": true
   },
   "outputs": [
    {
     "data": {
      "text/plain": [
       "(3945852, 3)"
      ]
     },
     "execution_count": 14,
     "metadata": {},
     "output_type": "execute_result"
    },
    {
     "data": {
      "image/png": "[encoded data removed]",
      "text/plain": [
       "<Figure size 432x288 with 1 Axes>"
      ]
     },
     "metadata": {
      "needs_background": "light"
     },
     "output_type": "display_data"
    }
   ],
   "source": [
    "#Again, plot for weight of investor-investor pair and its counts\n",
    "fig, ax = plt.subplots()\n",
    "InvstrInvstrPair_reduced[\"weight\"].hist(ax=ax, bins=100, bottom=0.1)\n",
    "ax.set_yscale('log')\n",
    "InvstrInvstrPair_reduced.shape"
   ]
  },
  {
   "cell_type": "code",
   "execution_count": 15,
   "metadata": {},
   "outputs": [],
   "source": [
    "#Save reversed edge list into csv for PageRank.\n",
    "InvstrInvstrPair_reduced_reversed = InvstrInvstrPair_reduced[['investorID_x', 'investorID_y', 'weight']]\n",
    "InvstrInvstrPair_reduced_reversed.to_csv(\"InvInvPairs_reversed.csv\", header=False, index=False, sep=\"\\t\")"
   ]
  },
  {
   "cell_type": "code",
   "execution_count": 16,
   "metadata": {},
   "outputs": [],
   "source": [
    "InvstrInvstrPair_reduced_reversed_small = InvstrInvstrPair_reduced_reversed[InvstrInvstrPair_reduced_reversed['weight'] > 0.05]\n",
    "InvstrInvstrPair_reduced_reversed_small.to_csv(\"InvInvPairs_reversed_small.csv\", header=False, index=False, sep=\"\\t\")"
   ]
  },
  {
   "cell_type": "code",
   "execution_count": 17,
   "metadata": {},
   "outputs": [],
   "source": [
    "#2nd step: select top 15 degree for each node\n",
    "t = 0\n",
    "top = 15\n",
    "for dstID in InvstrInvstrPair_reduced.investorID_x.unique():\n",
    "    temp = InvstrInvstrPair_reduced[InvstrInvstrPair_reduced[\"investorID_x\"] == dstID]\n",
    "    if len(temp) > top:\n",
    "        temp = temp.sort_values(\"weight\", ascending=False,).head(top)\n",
    "        if t == 0:\n",
    "            InvstrInvstrPair_top = temp\n",
    "            t += 1\n",
    "        else:\n",
    "            InvstrInvstrPair_top = InvstrInvstrPair_top.append(temp)\n",
    "    elif t == 0:\n",
    "        InvstrInvstrPair_top = temp\n",
    "        t += 1\n",
    "    else:\n",
    "        InvstrInvstrPair_top = InvstrInvstrPair_top.append(temp)"
   ]
  },
  {
   "cell_type": "code",
   "execution_count": 18,
   "metadata": {
    "scrolled": true
   },
   "outputs": [
    {
     "name": "stdout",
     "output_type": "stream",
     "text": [
      "         investorID_y  investorID_x    weight\n",
      "2609059          1248           101  0.125000\n",
      "591367            318           101  0.125000\n",
      "2650807          1268           101  0.100000\n",
      "4627851          2221           101  0.071429\n",
      "1791258           884           101  0.055556\n",
      "(82102, 3)\n"
     ]
    },
    {
     "data": {
      "image/png": "[encoded data removed]",
      "text/plain": [
       "<Figure size 432x288 with 1 Axes>"
      ]
     },
     "metadata": {
      "needs_background": "light"
     },
     "output_type": "display_data"
    }
   ],
   "source": [
    "#Again, plot for weight of investor-investor pair and its counts\n",
    "print(InvstrInvstrPair_top.head())\n",
    "print(InvstrInvstrPair_top.shape)\n",
    "fig, ax = plt.subplots()\n",
    "InvstrInvstrPair_top[\"weight\"].hist(ax=ax, bins=100, bottom=0.1)\n",
    "ax.set_yscale('log')"
   ]
  },
  {
   "cell_type": "code",
   "execution_count": 19,
   "metadata": {},
   "outputs": [],
   "source": [
    "#Save edge list into csv for Egonet visualization and HITs.\n",
    "InvstrInvstrPair_top.to_csv(\"./data/InvInvPairs.csv\", header=False, index=False, sep=\"\\t\")"
   ]
  },
  {
   "cell_type": "code",
   "execution_count": 20,
   "metadata": {},
   "outputs": [],
   "source": [
    "InvstrInvstrPair_top_reversed = InvstrInvstrPair_top[['investorID_x','investorID_y', 'weight']]\n",
    "InvstrInvstrPair_top_reversed.to_csv(\"./data/InvInvPairs_top_reversed.csv\", header=False, index=False, sep=\"\\t\")"
   ]
  },
  {
   "cell_type": "code",
   "execution_count": 21,
   "metadata": {},
   "outputs": [],
   "source": [
    "#Save investorID/name list into csv.\n",
    "df_investors[[\"investorID\", \"investorname\"]].to_csv(\"./data/Investor.csv\", header=False, index=False, sep=\"\\t\")"
   ]
  }
 ],
 "metadata": {
  "kernelspec": {
   "display_name": "Python 3",
   "language": "python",
   "name": "python3"
  },
  "language_info": {
   "codemirror_mode": {
    "name": "ipython",
    "version": 3
   },
   "file_extension": ".py",
   "mimetype": "text/x-python",
   "name": "python",
   "nbconvert_exporter": "python",
   "pygments_lexer": "ipython3",
   "version": "3.7.4"
  }
 },
 "nbformat": 4,
 "nbformat_minor": 2
}
